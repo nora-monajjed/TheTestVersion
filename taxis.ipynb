import seaborn as sns
import matplotlib.pyplot as plt
x=sns.load_dataset("taxis")
plt.boxplot(x["total"])


